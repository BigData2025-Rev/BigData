{
 "cells": [
  {
   "cell_type": "code",
   "execution_count": 1,
   "id": "159d37d1",
   "metadata": {},
   "outputs": [],
   "source": [
    "import numpy"
   ]
  },
  {
   "cell_type": "code",
   "execution_count": 2,
   "id": "30e5f3fc",
   "metadata": {},
   "outputs": [
    {
     "name": "stdout",
     "output_type": "stream",
     "text": [
      "[1 2 3 4 5]\n"
     ]
    }
   ],
   "source": [
    "import numpy \n",
    "arr = numpy.array([1,2,3,4,5])\n",
    "\n",
    "print(arr)\n"
   ]
  },
  {
   "cell_type": "code",
   "execution_count": 3,
   "id": "b41c3afc",
   "metadata": {},
   "outputs": [
    {
     "name": "stdout",
     "output_type": "stream",
     "text": [
      "[1 2 3 4 5]\n"
     ]
    }
   ],
   "source": [
    "import numpy as np \n",
    "arr = np.array([1,2,3,4,5])\n",
    "\n",
    "print(arr)"
   ]
  },
  {
   "cell_type": "code",
   "execution_count": 4,
   "id": "2c207959",
   "metadata": {},
   "outputs": [
    {
     "name": "stdout",
     "output_type": "stream",
     "text": [
      "2.0.2\n"
     ]
    }
   ],
   "source": [
    "print(np.__version__)"
   ]
  },
  {
   "cell_type": "code",
   "execution_count": 5,
   "id": "c4298922",
   "metadata": {},
   "outputs": [
    {
     "name": "stdout",
     "output_type": "stream",
     "text": [
      "<class 'numpy.ndarray'>\n"
     ]
    }
   ],
   "source": [
    "print(type(arr))"
   ]
  },
  {
   "cell_type": "code",
   "execution_count": 6,
   "id": "05114230",
   "metadata": {},
   "outputs": [
    {
     "name": "stdout",
     "output_type": "stream",
     "text": [
      "[[[[[0.00000000e+000 6.95184870e-310 4.47623475e-321             nan\n",
      "     1.12646967e-321]\n",
      "    [0.00000000e+000 1.61356517e+184 2.89382441e+227 1.48345685e-119\n",
      "     4.00979049e+087]\n",
      "    [1.02189324e-152 1.33856865e-152 2.59345432e+161 2.16402759e+233\n",
      "     7.74412838e+228]\n",
      "    [1.12038868e+219 1.23701654e-259 9.23546148e+242 2.52960802e-258\n",
      "     4.47593804e-091]]\n",
      "\n",
      "   [[2.44041296e-154 1.14115712e+243 5.44533295e-096 7.57782077e+005\n",
      "     2.18379531e-094]\n",
      "    [2.13945866e+161 6.01347002e-154 3.77678522e+180 8.72944715e+183\n",
      "     2.45650347e+198]\n",
      "    [2.05105506e+161 6.39374609e+246 1.66036929e+243 6.01334515e-154\n",
      "     1.71577771e-119]\n",
      "    [2.35567916e+251 5.30479557e+180 2.11329292e+214 4.99955024e+228\n",
      "     2.18145537e+243]]\n",
      "\n",
      "   [[6.01346953e-154 3.42774111e+214 1.14115712e+243 3.77678520e+180\n",
      "     8.72944715e+183]\n",
      "    [2.45650347e+198 8.51883418e+223 2.46563539e-154 1.91002772e+227\n",
      "     1.33717019e-152]\n",
      "    [6.51684233e+029 8.95529995e-106 8.11279884e+228 4.53146453e+217\n",
      "     2.44015728e-154]\n",
      "    [5.37625007e+241 1.67583468e+243 1.94809320e+227 5.03439428e+180\n",
      "     3.77678528e+180]]]\n",
      "\n",
      "\n",
      "  [[[8.72944715e+183 2.46416451e-154 1.08103738e+155 1.46922886e+195\n",
      "     2.19526581e-152]\n",
      "    [9.45312995e+218 5.86748171e+170 3.77692599e+180 5.98150411e-154\n",
      "     3.67285416e+194]\n",
      "    [2.87908278e+214 1.48342258e-119 4.00979049e+087 2.46599819e-154\n",
      "     4.47593816e-091]\n",
      "    [2.79150863e+275 1.96097649e+243 6.01347002e-154 3.89833702e+233\n",
      "     3.17095857e+180]]\n",
      "\n",
      "   [[7.22941924e+159 1.48971618e+214 1.21697541e-152 2.02764139e+174\n",
      "     9.08366784e+223]\n",
      "    [2.62785629e+092 2.04553260e-258 4.47593804e-091 6.01334512e-154\n",
      "     1.03646372e-028]\n",
      "    [1.81667905e-152 5.30479557e+180 2.59345432e+161 8.56486049e+183\n",
      "     2.55461400e-153]\n",
      "    [3.99190426e+252 7.72493424e+228 2.35510032e+251 4.83245960e+276\n",
      "     9.74726072e+024]]\n",
      "\n",
      "   [[2.52301636e-258 4.47593804e-091 6.01334512e-154 2.90956561e-014\n",
      "     2.59345444e+161]\n",
      "    [8.65636833e+140 5.56438712e+141 7.01413727e-009 3.99190445e+252\n",
      "     5.98147386e-154]\n",
      "    [1.03063392e-113 1.96567549e-062 5.98147503e-154 2.75490039e-085\n",
      "     6.17152498e-114]\n",
      "    [6.01334503e-154 1.35717430e+131 8.48585414e-096 5.98129748e-154\n",
      "     4.06319587e-320]]]]]\n"
     ]
    }
   ],
   "source": [
    "tmp = np.ndarray([1,2,3,4,5])\n",
    "print(tmp)"
   ]
  },
  {
   "cell_type": "code",
   "execution_count": 7,
   "id": "7a3a697a",
   "metadata": {},
   "outputs": [
    {
     "name": "stdout",
     "output_type": "stream",
     "text": [
      "36\n"
     ]
    }
   ],
   "source": [
    "# dimensions in Arrays.\n",
    "# 0-D array (Scalar).\n",
    "import numpy as np\n",
    "arr = np.array(36)\n",
    "\n",
    "print(arr)"
   ]
  },
  {
   "cell_type": "code",
   "execution_count": 8,
   "id": "072ec5a7",
   "metadata": {},
   "outputs": [
    {
     "name": "stdout",
     "output_type": "stream",
     "text": [
      "[1 2 3 4 5]\n"
     ]
    }
   ],
   "source": [
    "# 1-D array.\n",
    "import numpy as np\n",
    "arr = np.array([1,2,3,4,5])\n",
    "\n",
    "print(arr)"
   ]
  },
  {
   "cell_type": "code",
   "execution_count": 9,
   "id": "0b9bf0f5",
   "metadata": {},
   "outputs": [
    {
     "name": "stdout",
     "output_type": "stream",
     "text": [
      "[[1 2 3]\n",
      " [4 5 6]]\n"
     ]
    }
   ],
   "source": [
    "# 2-D array.\n",
    "import numpy as np\n",
    "arr = np.array([ [1,2,3], [4,5,6] ] )\n",
    "\n",
    "print(arr)"
   ]
  },
  {
   "cell_type": "code",
   "execution_count": 10,
   "id": "c28ae9b3",
   "metadata": {},
   "outputs": [
    {
     "name": "stdout",
     "output_type": "stream",
     "text": [
      "[[[ 1  2  3]\n",
      "  [ 4  5  6]\n",
      "  [ 7  8  9]\n",
      "  [10 11 12]]]\n"
     ]
    }
   ],
   "source": [
    "# 3-D array.\n",
    "import numpy as np\n",
    "arr = np.array([ [ [1,2,3], [4,5,6], [7,8,9], [10,11,12] ] ])\n",
    "\n",
    "print(arr)"
   ]
  },
  {
   "cell_type": "code",
   "execution_count": 11,
   "id": "c1a83bb9",
   "metadata": {},
   "outputs": [
    {
     "name": "stdout",
     "output_type": "stream",
     "text": [
      "[[ 1  2  3]\n",
      " [ 4  5  6]\n",
      " [ 7  8  9]\n",
      " [10 11 12]]\n"
     ]
    }
   ],
   "source": [
    "print(arr[0])"
   ]
  },
  {
   "cell_type": "code",
   "execution_count": 12,
   "id": "893002f5",
   "metadata": {},
   "outputs": [
    {
     "name": "stdout",
     "output_type": "stream",
     "text": [
      "[1 2 3]\n"
     ]
    }
   ],
   "source": [
    "print(arr[0][0])"
   ]
  },
  {
   "cell_type": "code",
   "execution_count": 13,
   "id": "04f5bc81",
   "metadata": {},
   "outputs": [
    {
     "name": "stdout",
     "output_type": "stream",
     "text": [
      "1\n"
     ]
    }
   ],
   "source": [
    "print(arr[0][0][0])"
   ]
  },
  {
   "cell_type": "code",
   "execution_count": 14,
   "id": "1ab1781a",
   "metadata": {},
   "outputs": [
    {
     "name": "stdout",
     "output_type": "stream",
     "text": [
      "[4 5 6]\n"
     ]
    }
   ],
   "source": [
    "print(arr[0][1])"
   ]
  },
  {
   "cell_type": "code",
   "execution_count": 15,
   "id": "7ac05ed5",
   "metadata": {},
   "outputs": [
    {
     "name": "stdout",
     "output_type": "stream",
     "text": [
      "[7 8 9]\n"
     ]
    }
   ],
   "source": [
    "print(arr[0][2])"
   ]
  },
  {
   "cell_type": "code",
   "execution_count": 16,
   "id": "b24cea40",
   "metadata": {},
   "outputs": [
    {
     "name": "stdout",
     "output_type": "stream",
     "text": [
      "[10 11 12]\n"
     ]
    }
   ],
   "source": [
    "print(arr[0][3])"
   ]
  },
  {
   "cell_type": "code",
   "execution_count": 17,
   "id": "39683fbd",
   "metadata": {},
   "outputs": [
    {
     "name": "stdout",
     "output_type": "stream",
     "text": [
      "12\n"
     ]
    }
   ],
   "source": [
    "print(arr[0][3][2])"
   ]
  },
  {
   "cell_type": "code",
   "execution_count": 18,
   "id": "f5c638e6",
   "metadata": {},
   "outputs": [],
   "source": [
    "tmp = np.array([1,2, \"abc\", \"def\"])"
   ]
  },
  {
   "cell_type": "code",
   "execution_count": 19,
   "id": "35cab353",
   "metadata": {},
   "outputs": [
    {
     "name": "stdout",
     "output_type": "stream",
     "text": [
      "['1' '2' 'abc' 'def']\n"
     ]
    }
   ],
   "source": [
    "print(tmp)"
   ]
  },
  {
   "cell_type": "code",
   "execution_count": 20,
   "id": "fb9f324f",
   "metadata": {},
   "outputs": [
    {
     "name": "stdout",
     "output_type": "stream",
     "text": [
      "3\n"
     ]
    }
   ],
   "source": [
    "print(arr.ndim)"
   ]
  },
  {
   "cell_type": "code",
   "execution_count": 21,
   "id": "72dc72a5",
   "metadata": {},
   "outputs": [
    {
     "name": "stdout",
     "output_type": "stream",
     "text": [
      "0\n",
      "1\n",
      "2\n",
      "3\n"
     ]
    }
   ],
   "source": [
    "a = np.array(57)\n",
    "b = np.array([1,2,3,4,5])\n",
    "c = np.array([ [1,2,3], [4,5,6]])\n",
    "d = np.array([[ [1,2,3], [4,5,6]]])\n",
    "\n",
    "print(a.ndim)\n",
    "print(b.ndim)\n",
    "print(c.ndim)\n",
    "print(d.ndim)\n"
   ]
  },
  {
   "cell_type": "code",
   "execution_count": 22,
   "id": "624e14c1",
   "metadata": {},
   "outputs": [
    {
     "name": "stdout",
     "output_type": "stream",
     "text": [
      "[[[[[1 2 3 4]]]]]\n",
      "5\n"
     ]
    }
   ],
   "source": [
    "import numpy as np\n",
    "arr = np.array([1,2,3,4], ndmin=5)\n",
    "\n",
    "print(arr)\n",
    "print(arr.ndim)"
   ]
  },
  {
   "cell_type": "code",
   "execution_count": 23,
   "id": "fdfe89c2",
   "metadata": {},
   "outputs": [
    {
     "name": "stdout",
     "output_type": "stream",
     "text": [
      "7\n"
     ]
    }
   ],
   "source": [
    "arr = np.array([1,2,3,4])\n",
    "\n",
    "print(arr[2] + arr[3])"
   ]
  },
  {
   "cell_type": "code",
   "execution_count": 24,
   "id": "beec5e1e",
   "metadata": {},
   "outputs": [
    {
     "name": "stdout",
     "output_type": "stream",
     "text": [
      "[[1 2 3]\n",
      " [4 5 6]\n",
      " [7 8 9]]\n",
      "[4 5 6]\n",
      "6\n"
     ]
    }
   ],
   "source": [
    "arr = np.array([[ [1,2,3], [4,5,6], [7,8,9]]])\n",
    "print(arr[0])\n",
    "print(arr[0][1])\n",
    "print(arr[0][1][2])\n"
   ]
  },
  {
   "cell_type": "code",
   "execution_count": 25,
   "id": "b416eb47",
   "metadata": {},
   "outputs": [
    {
     "name": "stdout",
     "output_type": "stream",
     "text": [
      "10\n",
      "8\n",
      "3\n"
     ]
    }
   ],
   "source": [
    "arr = np.array([[1,2,3,4,5], [6,7,8,9,10] ])\n",
    "print(arr[1,-1])\n",
    "print(arr[1,-3])\n",
    "print(arr[0,-3])\n"
   ]
  },
  {
   "cell_type": "code",
   "execution_count": 26,
   "id": "65d79aff",
   "metadata": {},
   "outputs": [
    {
     "name": "stdout",
     "output_type": "stream",
     "text": [
      "[2 3 4 5]\n"
     ]
    }
   ],
   "source": [
    "arr = np.array([1,2,3,4,5,6,7,8,9,10])\n",
    "print(arr[1:5])"
   ]
  },
  {
   "cell_type": "code",
   "execution_count": 27,
   "id": "051cbcc1",
   "metadata": {},
   "outputs": [
    {
     "name": "stdout",
     "output_type": "stream",
     "text": [
      "[2 3 4 5 6 7 8]\n",
      "[2 4 6 8]\n",
      "[1 3 5 7]\n"
     ]
    }
   ],
   "source": [
    "print(arr[1:8])\n",
    "print(arr[1:8:2])\n",
    "print(arr[0:8:2])"
   ]
  },
  {
   "cell_type": "code",
   "execution_count": 28,
   "id": "27cb9308",
   "metadata": {},
   "outputs": [
    {
     "name": "stdout",
     "output_type": "stream",
     "text": [
      "[2 5 8]\n"
     ]
    }
   ],
   "source": [
    "print(arr[1:8:3])"
   ]
  },
  {
   "cell_type": "code",
   "execution_count": 29,
   "id": "3372fb3b",
   "metadata": {},
   "outputs": [
    {
     "name": "stdout",
     "output_type": "stream",
     "text": [
      "[ 5  6  7  8  9 10]\n"
     ]
    }
   ],
   "source": [
    "print(arr[4:])"
   ]
  },
  {
   "cell_type": "code",
   "execution_count": 30,
   "id": "8a287bb0",
   "metadata": {},
   "outputs": [
    {
     "name": "stdout",
     "output_type": "stream",
     "text": [
      "[1 2 3 4]\n"
     ]
    }
   ],
   "source": [
    "print(arr[:4])"
   ]
  },
  {
   "cell_type": "code",
   "execution_count": 31,
   "id": "242f3944",
   "metadata": {},
   "outputs": [
    {
     "name": "stdout",
     "output_type": "stream",
     "text": [
      "[8 9]\n"
     ]
    }
   ],
   "source": [
    "print(arr[-3:-1])"
   ]
  },
  {
   "cell_type": "code",
   "execution_count": 32,
   "id": "1a929038",
   "metadata": {},
   "outputs": [
    {
     "name": "stdout",
     "output_type": "stream",
     "text": [
      "[1 3 5 7 9]\n"
     ]
    }
   ],
   "source": [
    "print(arr[::2])"
   ]
  },
  {
   "cell_type": "code",
   "execution_count": 33,
   "id": "07068352",
   "metadata": {},
   "outputs": [
    {
     "name": "stdout",
     "output_type": "stream",
     "text": [
      "[7 8 9]\n",
      "[7 8 9]\n"
     ]
    }
   ],
   "source": [
    "arr = np.array( [ [1,2,3,4,5], [6,7,8,9,10]])\n",
    "print(arr[1, 1:4])   # 2,3,4 OR 7,8,9,10 OR 7,8,9\n",
    "print(arr[1][1:4])"
   ]
  },
  {
   "cell_type": "code",
   "execution_count": 34,
   "id": "e95128ea",
   "metadata": {},
   "outputs": [
    {
     "name": "stdout",
     "output_type": "stream",
     "text": [
      "[3 8]\n"
     ]
    }
   ],
   "source": [
    "print(arr[0:2,2])     # arr[0:2][2]     prints 3,8 OR "
   ]
  },
  {
   "cell_type": "code",
   "execution_count": 35,
   "id": "59e509a5",
   "metadata": {},
   "outputs": [
    {
     "name": "stdout",
     "output_type": "stream",
     "text": [
      "[[ 6  7  8  9 10]]\n"
     ]
    }
   ],
   "source": [
    "print(arr[0:2][1:4])     # not preferred.\n"
   ]
  },
  {
   "cell_type": "code",
   "execution_count": 36,
   "id": "c15ae7bc",
   "metadata": {},
   "outputs": [
    {
     "name": "stdout",
     "output_type": "stream",
     "text": [
      "[[2 3 4]\n",
      " [7 8 9]]\n"
     ]
    }
   ],
   "source": [
    "print(arr[0:2,1:4])     # preferred."
   ]
  },
  {
   "cell_type": "code",
   "execution_count": 37,
   "id": "11d4340d",
   "metadata": {},
   "outputs": [
    {
     "name": "stdout",
     "output_type": "stream",
     "text": [
      "[1 2 3 4 5]\n",
      "[1 2 3 4 5]\n"
     ]
    }
   ],
   "source": [
    "arr = np.array([1,2,3,4,5])\n",
    "newArr = arr.copy()\n",
    "\n",
    "print(arr)\n",
    "print(newArr)"
   ]
  },
  {
   "cell_type": "code",
   "execution_count": 38,
   "id": "6cce0bd9",
   "metadata": {},
   "outputs": [
    {
     "name": "stdout",
     "output_type": "stream",
     "text": [
      "[76  2  3  4  5]\n",
      "[1 2 3 4 5]\n"
     ]
    }
   ],
   "source": [
    "arr[0] = 76\n",
    "print(arr)\n",
    "print(newArr)"
   ]
  },
  {
   "cell_type": "code",
   "execution_count": 39,
   "id": "cf91e450",
   "metadata": {},
   "outputs": [
    {
     "name": "stdout",
     "output_type": "stream",
     "text": [
      "[76  2  3  4  5]\n",
      "[ 1  2 50  4  5]\n"
     ]
    }
   ],
   "source": [
    "newArr[2] = 50\n",
    "print(arr)\n",
    "print(newArr)"
   ]
  },
  {
   "cell_type": "code",
   "execution_count": 40,
   "id": "52cbc5b3",
   "metadata": {},
   "outputs": [
    {
     "name": "stdout",
     "output_type": "stream",
     "text": [
      "[1 2 3 4 5]\n",
      "[1 2 3 4 5]\n"
     ]
    }
   ],
   "source": [
    "arr = np.array([1,2,3,4,5])\n",
    "newArr = arr.view()\n",
    "\n",
    "print(arr)\n",
    "print(newArr)"
   ]
  },
  {
   "cell_type": "code",
   "execution_count": 41,
   "id": "cb5b0639",
   "metadata": {},
   "outputs": [
    {
     "name": "stdout",
     "output_type": "stream",
     "text": [
      "[76  2  3  4  5]\n",
      "[76  2  3  4  5]\n"
     ]
    }
   ],
   "source": [
    "arr[0] = 76\n",
    "print(arr)\n",
    "print(newArr)"
   ]
  },
  {
   "cell_type": "code",
   "execution_count": 42,
   "id": "ce3d20ed",
   "metadata": {},
   "outputs": [
    {
     "name": "stdout",
     "output_type": "stream",
     "text": [
      "[76  2 50  4  5]\n",
      "[76  2 50  4  5]\n"
     ]
    }
   ],
   "source": [
    "newArr[2] = 50\n",
    "print(arr)\n",
    "print(newArr)"
   ]
  },
  {
   "cell_type": "code",
   "execution_count": 43,
   "id": "69aa5922",
   "metadata": {},
   "outputs": [
    {
     "name": "stdout",
     "output_type": "stream",
     "text": [
      "[1 2 3 4 5]\n",
      "[1 2 3 4 5]\n",
      "None\n",
      "[1 2 3 4 5]\n"
     ]
    }
   ],
   "source": [
    "arr = np.array([1,2,3,4,5])\n",
    "\n",
    "copyArr = arr.copy()\n",
    "viewArr = arr.view()\n",
    "\n",
    "print(copyArr)\n",
    "print(viewArr)\n",
    "\n",
    "# If it returns \"None\", it is a copy and owns the data.\n",
    "print(copyArr.base)    \n",
    "print(viewArr.base)\n"
   ]
  },
  {
   "cell_type": "code",
   "execution_count": 44,
   "id": "865d5a86",
   "metadata": {},
   "outputs": [
    {
     "name": "stdout",
     "output_type": "stream",
     "text": [
      "1\n",
      "2\n",
      "3\n",
      "4\n",
      "5\n"
     ]
    }
   ],
   "source": [
    "# Iterating.\n",
    "arr = np.array([1,2,3,4,5])\n",
    "for i in arr:\n",
    "    print(i)"
   ]
  },
  {
   "cell_type": "code",
   "execution_count": 45,
   "id": "ba3865d3",
   "metadata": {},
   "outputs": [
    {
     "name": "stdout",
     "output_type": "stream",
     "text": [
      "1\n",
      "2\n",
      "3\n",
      "4\n",
      "5\n",
      "6\n",
      "7\n",
      "8\n",
      "9\n",
      "10\n"
     ]
    }
   ],
   "source": [
    "arr = np.array([[1,2,3,4,5], [6,7,8,9,10]])\n",
    "for i in arr:\n",
    "    for j in i:\n",
    "        print(j)"
   ]
  },
  {
   "cell_type": "code",
   "execution_count": 46,
   "id": "919479d6",
   "metadata": {},
   "outputs": [
    {
     "name": "stdout",
     "output_type": "stream",
     "text": [
      "1\n",
      "2\n",
      "3\n",
      "4\n",
      "5\n",
      "6\n",
      "7\n",
      "8\n",
      "9\n",
      "10\n",
      "11\n",
      "12\n",
      "13\n",
      "14\n",
      "15\n"
     ]
    }
   ],
   "source": [
    "arr = np.array([[[1,2,3,4,5], [6,7,8,9,10], [11,12,13,14,15]]])\n",
    "for i in arr:\n",
    "    for j in i:\n",
    "        for k in j:\n",
    "            print(k)"
   ]
  },
  {
   "cell_type": "code",
   "execution_count": 47,
   "id": "f3b027d9",
   "metadata": {},
   "outputs": [
    {
     "name": "stdout",
     "output_type": "stream",
     "text": [
      "1\n",
      "2\n",
      "3\n",
      "4\n",
      "5\n",
      "6\n",
      "7\n",
      "8\n",
      "9\n",
      "10\n",
      "11\n",
      "12\n",
      "13\n",
      "14\n",
      "15\n"
     ]
    }
   ],
   "source": [
    "arr = np.array([[[1,2,3,4,5], [6,7,8,9,10], [11,12,13,14,15]]])\n",
    "for x in np.nditer(arr):\n",
    "    print(x)"
   ]
  },
  {
   "cell_type": "code",
   "execution_count": 48,
   "id": "e3c2b0d5",
   "metadata": {},
   "outputs": [
    {
     "name": "stdout",
     "output_type": "stream",
     "text": [
      "(0, 0, 0) 1\n",
      "(0, 0, 1) 2\n",
      "(0, 0, 2) 3\n",
      "(0, 0, 3) 4\n",
      "(0, 0, 4) 5\n",
      "(0, 1, 0) 6\n",
      "(0, 1, 1) 7\n",
      "(0, 1, 2) 8\n",
      "(0, 1, 3) 9\n",
      "(0, 1, 4) 10\n",
      "(0, 2, 0) 11\n",
      "(0, 2, 1) 12\n",
      "(0, 2, 2) 13\n",
      "(0, 2, 3) 14\n",
      "(0, 2, 4) 15\n"
     ]
    }
   ],
   "source": [
    "arr = np.array([[[1,2,3,4,5], [6,7,8,9,10], [11,12,13,14,15]]])\n",
    "for indx, x in np.ndenumerate(arr):\n",
    "    print(indx, x)"
   ]
  },
  {
   "cell_type": "code",
   "execution_count": 49,
   "id": "6f9c61cc",
   "metadata": {},
   "outputs": [
    {
     "name": "stdout",
     "output_type": "stream",
     "text": [
      "[1 2 3 4 5 6]\n"
     ]
    }
   ],
   "source": [
    "arr1 = np.array([1,2,3])\n",
    "arr2 = np.array([4,5,6])\n",
    "\n",
    "arr = np.concatenate((arr1, arr2))\n",
    "print(arr)"
   ]
  },
  {
   "cell_type": "code",
   "execution_count": 50,
   "id": "43044740",
   "metadata": {},
   "outputs": [
    {
     "name": "stdout",
     "output_type": "stream",
     "text": [
      "[[1 2]\n",
      " [3 4]\n",
      " [5 6]\n",
      " [7 8]]\n"
     ]
    }
   ],
   "source": [
    "arr1 = np.array([[1,2], [3,4]])\n",
    "arr2 = np.array([[5,6], [7,8]])\n",
    "\n",
    "arr = np.concatenate((arr1, arr2))\n",
    "print(arr)"
   ]
  },
  {
   "cell_type": "code",
   "execution_count": 51,
   "id": "cfc5fb81",
   "metadata": {},
   "outputs": [
    {
     "name": "stdout",
     "output_type": "stream",
     "text": [
      "[[1 2 5 6]\n",
      " [3 4 7 8]]\n"
     ]
    }
   ],
   "source": [
    "arr = np.concatenate((arr1, arr2), axis=1)\n",
    "print(arr)"
   ]
  },
  {
   "cell_type": "code",
   "execution_count": 52,
   "id": "240384b7",
   "metadata": {},
   "outputs": [
    {
     "name": "stdout",
     "output_type": "stream",
     "text": [
      "[[1 5]\n",
      " [2 6]\n",
      " [3 7]\n",
      " [4 8]]\n"
     ]
    }
   ],
   "source": [
    "arr1 = np.array([1,2,3,4])\n",
    "arr2 = np.array([5,6,7,8])\n",
    "\n",
    "arr = np.stack((arr1,arr2), axis=1)\n",
    "print(arr)"
   ]
  },
  {
   "cell_type": "code",
   "execution_count": 53,
   "id": "2a41d097",
   "metadata": {},
   "outputs": [
    {
     "name": "stdout",
     "output_type": "stream",
     "text": [
      "[[1 2 3 4]\n",
      " [5 6 7 8]]\n"
     ]
    }
   ],
   "source": [
    "arr1 = np.array([1,2,3,4])\n",
    "arr2 = np.array([5,6,7,8])\n",
    "\n",
    "arr = np.stack((arr1,arr2))\n",
    "print(arr)"
   ]
  },
  {
   "cell_type": "code",
   "execution_count": 54,
   "id": "3e188248",
   "metadata": {},
   "outputs": [
    {
     "name": "stdout",
     "output_type": "stream",
     "text": [
      "[array([1, 2]), array([3, 4]), array([5, 6])]\n"
     ]
    }
   ],
   "source": [
    "arr1 = np.array([1,2,3,4,5,6])\n",
    "\n",
    "arr = np.array_split(arr1,3)\n",
    "print(arr)"
   ]
  },
  {
   "cell_type": "code",
   "execution_count": 55,
   "id": "133ce721",
   "metadata": {},
   "outputs": [
    {
     "name": "stdout",
     "output_type": "stream",
     "text": [
      "[array([1, 2, 3]), array([4, 5]), array([6, 7])]\n"
     ]
    }
   ],
   "source": [
    "arr1 = np.array([1,2,3,4,5,6,7])\n",
    "\n",
    "arr = np.array_split(arr1,3)\n",
    "print(arr)"
   ]
  },
  {
   "cell_type": "code",
   "execution_count": 56,
   "id": "ee3bc3e6",
   "metadata": {},
   "outputs": [
    {
     "name": "stdout",
     "output_type": "stream",
     "text": [
      "[array([1, 2]), array([3, 4]), array([5]), array([6])]\n"
     ]
    }
   ],
   "source": [
    "arr1 = np.array([1,2,3,4,5,6])\n",
    "\n",
    "arr = np.array_split(arr1,4)\n",
    "print(arr)"
   ]
  },
  {
   "cell_type": "code",
   "execution_count": 57,
   "id": "a9bf568a",
   "metadata": {},
   "outputs": [
    {
     "name": "stdout",
     "output_type": "stream",
     "text": [
      "[1 2]\n",
      "[3 4]\n",
      "[5]\n",
      "[6]\n"
     ]
    }
   ],
   "source": [
    "print(arr[0])\n",
    "print(arr[1])\n",
    "print(arr[2])\n",
    "print(arr[3])\n"
   ]
  },
  {
   "cell_type": "code",
   "execution_count": 58,
   "id": "de9460fa",
   "metadata": {},
   "outputs": [
    {
     "name": "stdout",
     "output_type": "stream",
     "text": [
      "[array([[1, 2],\n",
      "       [3, 4]]), array([[5, 6],\n",
      "       [7, 8]]), array([[ 9, 10]])]\n"
     ]
    }
   ],
   "source": [
    "arr1 = np.array([[1,2],[3,4], [5,6],[7,8], [9,10]])\n",
    "\n",
    "arr = np.array_split(arr1, 3)\n",
    "print(arr)"
   ]
  },
  {
   "cell_type": "code",
   "execution_count": 59,
   "id": "1d95431e",
   "metadata": {},
   "outputs": [
    {
     "name": "stdout",
     "output_type": "stream",
     "text": [
      "(array([3]),)\n"
     ]
    }
   ],
   "source": [
    "arr = np.array([1,2,3,4,5,6,7])\n",
    "srch = np.where(arr == 4)\n",
    "print(srch)\n"
   ]
  },
  {
   "cell_type": "code",
   "execution_count": 60,
   "id": "6b0ce1dd",
   "metadata": {},
   "outputs": [
    {
     "name": "stdout",
     "output_type": "stream",
     "text": [
      "(array([3, 5, 8]),)\n"
     ]
    }
   ],
   "source": [
    "arr = np.array([1,2,3,4,5,4,6,7,4])\n",
    "srch = np.where(arr == 4)\n",
    "print(srch)"
   ]
  },
  {
   "cell_type": "code",
   "execution_count": 61,
   "id": "77e583a4",
   "metadata": {},
   "outputs": [
    {
     "name": "stdout",
     "output_type": "stream",
     "text": [
      "[4 4 4]\n"
     ]
    }
   ],
   "source": [
    "print(arr[srch])"
   ]
  },
  {
   "cell_type": "code",
   "execution_count": 62,
   "id": "316633c3",
   "metadata": {},
   "outputs": [
    {
     "name": "stdout",
     "output_type": "stream",
     "text": [
      "(array([1, 3, 5, 7]),)\n"
     ]
    }
   ],
   "source": [
    "arr = np.array([1,2,3,4,5,6,7,8])\n",
    "srch = np.where(arr %2 == 0)\n",
    "print(srch)"
   ]
  },
  {
   "cell_type": "code",
   "execution_count": 63,
   "id": "2a7995ea",
   "metadata": {},
   "outputs": [
    {
     "name": "stdout",
     "output_type": "stream",
     "text": [
      "(array([0, 2, 4, 6]),)\n"
     ]
    }
   ],
   "source": [
    "arr = np.array([1,2,3,4,5,6,7,8])\n",
    "srch = np.where(arr %2 == 1)\n",
    "print(srch)"
   ]
  },
  {
   "cell_type": "code",
   "execution_count": 64,
   "id": "ba011d9f",
   "metadata": {},
   "outputs": [
    {
     "name": "stdout",
     "output_type": "stream",
     "text": [
      "2\n"
     ]
    }
   ],
   "source": [
    "arr = np.array([5,6,8,9])\n",
    "x = np.searchsorted(arr, 7)\n",
    "print(x)\n"
   ]
  },
  {
   "cell_type": "code",
   "execution_count": 65,
   "id": "00ca68fe",
   "metadata": {},
   "outputs": [
    {
     "name": "stdout",
     "output_type": "stream",
     "text": [
      "2\n"
     ]
    }
   ],
   "source": [
    "arr = np.array([8,6,9,5])\n",
    "x = np.searchsorted(arr, 7)\n",
    "print(x)\n"
   ]
  },
  {
   "cell_type": "code",
   "execution_count": 66,
   "id": "0c09643e",
   "metadata": {},
   "outputs": [
    {
     "name": "stdout",
     "output_type": "stream",
     "text": [
      "3\n"
     ]
    }
   ],
   "source": [
    "arr = np.array([4,5,6,8,9])\n",
    "x = np.searchsorted(arr, 7, side=\"right\")\n",
    "print(x)\n"
   ]
  },
  {
   "cell_type": "code",
   "execution_count": 67,
   "id": "dd2ffcc8",
   "metadata": {},
   "outputs": [
    {
     "name": "stdout",
     "output_type": "stream",
     "text": [
      "[1 2]\n"
     ]
    }
   ],
   "source": [
    "arr = np.array([1,3,5,7])\n",
    "x = np.searchsorted(arr, [2,4])\n",
    "print(x)\n"
   ]
  },
  {
   "cell_type": "code",
   "execution_count": 68,
   "id": "52701b10",
   "metadata": {},
   "outputs": [
    {
     "name": "stdout",
     "output_type": "stream",
     "text": [
      "[5 6 8 9]\n"
     ]
    }
   ],
   "source": [
    "arr1 = np.array([8,6,9,5])\n",
    "arr = np.sort(arr1)\n",
    "\n",
    "print(arr)"
   ]
  },
  {
   "cell_type": "code",
   "execution_count": 69,
   "id": "60ad8db4",
   "metadata": {},
   "outputs": [
    {
     "name": "stdout",
     "output_type": "stream",
     "text": [
      "['apple' 'banana' 'orange' 'strawberry']\n"
     ]
    }
   ],
   "source": [
    "arr1 = np.array([\"strawberry\", \"apple\", \"orange\", \"banana\",])\n",
    "arr = np.sort(arr1)\n",
    "\n",
    "print(arr)"
   ]
  },
  {
   "cell_type": "code",
   "execution_count": 70,
   "id": "2dbe1afc",
   "metadata": {},
   "outputs": [
    {
     "name": "stdout",
     "output_type": "stream",
     "text": [
      "[15 17]\n"
     ]
    }
   ],
   "source": [
    "arr1 = np.array([15,16,17,18])\n",
    "filter = [True, False, True, False]\n",
    "\n",
    "newArr = arr1[filter]\n",
    "print(newArr)"
   ]
  },
  {
   "cell_type": "code",
   "execution_count": 71,
   "id": "80dd0908",
   "metadata": {},
   "outputs": [
    {
     "name": "stdout",
     "output_type": "stream",
     "text": [
      "[15 18]\n"
     ]
    }
   ],
   "source": [
    "arr1 = np.array([15,16,17,18])\n",
    "filter = [True, False, False, True]\n",
    "\n",
    "newArr = arr1[filter]\n",
    "print(newArr)"
   ]
  },
  {
   "cell_type": "code",
   "execution_count": 72,
   "id": "535c8052",
   "metadata": {},
   "outputs": [
    {
     "name": "stdout",
     "output_type": "stream",
     "text": [
      "[15 18]\n"
     ]
    }
   ],
   "source": [
    "arr1 = np.array([15,16,17,18])\n",
    "filter = [True, False, False, True]\n",
    "\n",
    "newArr = arr1[filter]\n",
    "print(newArr)"
   ]
  },
  {
   "cell_type": "code",
   "execution_count": 73,
   "id": "2b0e839f",
   "metadata": {},
   "outputs": [
    {
     "name": "stdout",
     "output_type": "stream",
     "text": [
      "[False False False False  True  True]\n",
      "[19 20]\n"
     ]
    }
   ],
   "source": [
    "arr1 = np.array([15,16,17,18, 19, 20])\n",
    "filter = arr1 > 18\n",
    "\n",
    "newArr = arr1[filter]\n",
    "print(filter)\n",
    "print(newArr)"
   ]
  },
  {
   "cell_type": "code",
   "execution_count": 74,
   "id": "a4a09f50",
   "metadata": {},
   "outputs": [
    {
     "name": "stdout",
     "output_type": "stream",
     "text": [
      "[False  True False  True False  True]\n",
      "[16 18 20]\n"
     ]
    }
   ],
   "source": [
    "arr1 = np.array([15,16,17,18, 19, 20])\n",
    "filter = arr1 %2 == 0\n",
    "\n",
    "newArr = arr1[filter]\n",
    "print(filter)\n",
    "print(newArr)"
   ]
  },
  {
   "cell_type": "code",
   "execution_count": null,
   "id": "c9f76650",
   "metadata": {},
   "outputs": [],
   "source": []
  }
 ],
 "metadata": {
  "kernelspec": {
   "display_name": "Python 3 (ipykernel)",
   "language": "python",
   "name": "python3"
  },
  "language_info": {
   "codemirror_mode": {
    "name": "ipython",
    "version": 3
   },
   "file_extension": ".py",
   "mimetype": "text/x-python",
   "name": "python",
   "nbconvert_exporter": "python",
   "pygments_lexer": "ipython3",
   "version": "3.9.13"
  }
 },
 "nbformat": 4,
 "nbformat_minor": 5
}
